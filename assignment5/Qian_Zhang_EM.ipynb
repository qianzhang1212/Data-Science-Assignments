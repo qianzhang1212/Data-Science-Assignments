{
 "cells": [
  {
   "cell_type": "code",
   "execution_count": 1,
   "metadata": {
    "collapsed": true
   },
   "outputs": [],
   "source": [
    "import py_entitymatching as em\n",
    "import pandas as pd\n",
    "import os, sys\n",
    "import numpy as np"
   ]
  },
  {
   "cell_type": "code",
   "execution_count": 2,
   "metadata": {
    "collapsed": true
   },
   "outputs": [],
   "source": [
    "ltable = pd.read_csv('ltable.csv', encoding='latin-1')\n",
    "rtable = pd.read_csv('rtable.csv', encoding='latin-1')"
   ]
  },
  {
   "cell_type": "code",
   "execution_count": 3,
   "metadata": {},
   "outputs": [
    {
     "name": "stderr",
     "output_type": "stream",
     "text": [
      "Metadata file is not present in the given path; proceeding to read the csv file.\n",
      "Metadata file is not present in the given path; proceeding to read the csv file.\n"
     ]
    }
   ],
   "source": [
    "ltableData = em.read_csv_metadata(\"ltable.csv\", encoding='latin-1')\n",
    "rtableData = em.read_csv_metadata(\"rtable.csv\", encoding='latin-1')"
   ]
  },
  {
   "cell_type": "code",
   "execution_count": 4,
   "metadata": {},
   "outputs": [
    {
     "data": {
      "text/plain": [
       "True"
      ]
     },
     "execution_count": 4,
     "metadata": {},
     "output_type": "execute_result"
    }
   ],
   "source": [
    "em.set_key(ltableData, 'ltable_id')\n",
    "em.set_key(rtableData, 'rtable_id')"
   ]
  },
  {
   "cell_type": "code",
   "execution_count": 5,
   "metadata": {},
   "outputs": [
    {
     "name": "stderr",
     "output_type": "stream",
     "text": [
      "Metadata file is not present in the given path; proceeding to read the csv file.\n"
     ]
    }
   ],
   "source": [
    "train = em.read_csv_metadata(\"train.csv\", \n",
    "                         key='id',\n",
    "                         ltable=ltableData, rtable=rtableData, \n",
    "                         fk_ltable='ltable_id', fk_rtable='rtable_id')"
   ]
  },
  {
   "cell_type": "code",
   "execution_count": 6,
   "metadata": {
    "collapsed": true
   },
   "outputs": [],
   "source": [
    "F = em.get_features_for_matching(ltableData, rtableData, validate_inferred_attr_types=False)"
   ]
  },
  {
   "cell_type": "code",
   "execution_count": 7,
   "metadata": {
    "collapsed": true
   },
   "outputs": [],
   "source": [
    "train_table = em.extract_feature_vecs(train, \n",
    "                            feature_table=F, \n",
    "                            attrs_after='label',\n",
    "                            show_progress=False)"
   ]
  },
  {
   "cell_type": "code",
   "execution_count": 8,
   "metadata": {
    "collapsed": true
   },
   "outputs": [],
   "source": [
    "import random\n",
    "random_state = 0 \n",
    "\n",
    "dt = em.DTMatcher(name='DecisionTree', random_state=random_state)\n",
    "rf = em.RFMatcher(name='RF', random_state=random_state)\n",
    "svm = em.SVMMatcher(name='SVM', random_state=random_state)\n",
    "ln = em.LinRegMatcher(name='LinReg')\n",
    "lg = em.LogRegMatcher(name='LogReg', random_state=random_state)\n",
    "nb = em.NBMatcher(name = 'NaiveBayes')\n",
    "xg = em.XGBoostMatcher(name = 'XGBoost')"
   ]
  },
  {
   "cell_type": "code",
   "execution_count": 9,
   "metadata": {},
   "outputs": [
    {
     "name": "stderr",
     "output_type": "stream",
     "text": [
      "C:\\Anaconda2\\envs\\tfdeeplearning\\lib\\site-packages\\sklearn\\utils\\deprecation.py:58: DeprecationWarning: Class Imputer is deprecated; Imputer was deprecated in version 0.20 and will be removed in 0.22. Import impute.SimpleImputer from sklearn instead.\n",
      "  warnings.warn(msg, category=DeprecationWarning)\n"
     ]
    }
   ],
   "source": [
    "# Impute feature vectors with the mean of the column values.\n",
    "train_table = em.impute_table(train_table, \n",
    "                exclude_attrs=['id', 'ltable_id', 'rtable_id', 'label'],\n",
    "                strategy='mean')"
   ]
  },
  {
   "cell_type": "code",
   "execution_count": 10,
   "metadata": {},
   "outputs": [
    {
     "data": {
      "text/html": [
       "<div>\n",
       "<style>\n",
       "    .dataframe thead tr:only-child th {\n",
       "        text-align: right;\n",
       "    }\n",
       "\n",
       "    .dataframe thead th {\n",
       "        text-align: left;\n",
       "    }\n",
       "\n",
       "    .dataframe tbody tr th {\n",
       "        vertical-align: top;\n",
       "    }\n",
       "</style>\n",
       "<table border=\"1\" class=\"dataframe\">\n",
       "  <thead>\n",
       "    <tr style=\"text-align: right;\">\n",
       "      <th></th>\n",
       "      <th>Matcher</th>\n",
       "      <th>Average precision</th>\n",
       "      <th>Average recall</th>\n",
       "      <th>Average f1</th>\n",
       "    </tr>\n",
       "  </thead>\n",
       "  <tbody>\n",
       "    <tr>\n",
       "      <th>0</th>\n",
       "      <td>DecisionTree</td>\n",
       "      <td>0.586133</td>\n",
       "      <td>0.561569</td>\n",
       "      <td>0.572245</td>\n",
       "    </tr>\n",
       "    <tr>\n",
       "      <th>1</th>\n",
       "      <td>RF</td>\n",
       "      <td>0.803232</td>\n",
       "      <td>0.487055</td>\n",
       "      <td>0.605659</td>\n",
       "    </tr>\n",
       "    <tr>\n",
       "      <th>2</th>\n",
       "      <td>SVM</td>\n",
       "      <td>0.904368</td>\n",
       "      <td>0.335341</td>\n",
       "      <td>0.489210</td>\n",
       "    </tr>\n",
       "    <tr>\n",
       "      <th>3</th>\n",
       "      <td>LinReg</td>\n",
       "      <td>0.972177</td>\n",
       "      <td>0.438797</td>\n",
       "      <td>0.603510</td>\n",
       "    </tr>\n",
       "    <tr>\n",
       "      <th>4</th>\n",
       "      <td>LogReg</td>\n",
       "      <td>0.943515</td>\n",
       "      <td>0.452186</td>\n",
       "      <td>0.609692</td>\n",
       "    </tr>\n",
       "    <tr>\n",
       "      <th>5</th>\n",
       "      <td>NaiveBayes</td>\n",
       "      <td>0.478641</td>\n",
       "      <td>0.544630</td>\n",
       "      <td>0.507736</td>\n",
       "    </tr>\n",
       "    <tr>\n",
       "      <th>6</th>\n",
       "      <td>XGBoost</td>\n",
       "      <td>0.948509</td>\n",
       "      <td>0.465426</td>\n",
       "      <td>0.622736</td>\n",
       "    </tr>\n",
       "  </tbody>\n",
       "</table>\n",
       "</div>"
      ],
      "text/plain": [
       "        Matcher  Average precision  Average recall  Average f1\n",
       "0  DecisionTree           0.586133        0.561569    0.572245\n",
       "1            RF           0.803232        0.487055    0.605659\n",
       "2           SVM           0.904368        0.335341    0.489210\n",
       "3        LinReg           0.972177        0.438797    0.603510\n",
       "4        LogReg           0.943515        0.452186    0.609692\n",
       "5    NaiveBayes           0.478641        0.544630    0.507736\n",
       "6       XGBoost           0.948509        0.465426    0.622736"
      ]
     },
     "execution_count": 10,
     "metadata": {},
     "output_type": "execute_result"
    }
   ],
   "source": [
    "#initial results\n",
    "result = em.select_matcher([dt, rf, svm, ln, lg, nb, xg], table=train_table, \n",
    "        exclude_attrs=['id', 'ltable_id', 'rtable_id', 'label'],\n",
    "        k=5,\n",
    "        target_attr='label', metric_to_select_matcher='f1', random_state=0)\n",
    "result['cv_stats']"
   ]
  },
  {
   "cell_type": "code",
   "execution_count": 11,
   "metadata": {},
   "outputs": [
    {
     "name": "stderr",
     "output_type": "stream",
     "text": [
      "Metadata file is not present in the given path; proceeding to read the csv file.\n"
     ]
    }
   ],
   "source": [
    "test = em.read_csv_metadata(\"test.csv\", \n",
    "                         key='id',\n",
    "                         ltable=ltableData, rtable=rtableData, \n",
    "                         fk_ltable='ltable_id', fk_rtable='rtable_id')"
   ]
  },
  {
   "cell_type": "code",
   "execution_count": 12,
   "metadata": {
    "collapsed": true
   },
   "outputs": [],
   "source": [
    "test_table = em.extract_feature_vecs(test, feature_table=F, show_progress=False)"
   ]
  },
  {
   "cell_type": "code",
   "execution_count": 13,
   "metadata": {},
   "outputs": [
    {
     "name": "stderr",
     "output_type": "stream",
     "text": [
      "C:\\Anaconda2\\envs\\tfdeeplearning\\lib\\site-packages\\sklearn\\utils\\deprecation.py:58: DeprecationWarning: Class Imputer is deprecated; Imputer was deprecated in version 0.20 and will be removed in 0.22. Import impute.SimpleImputer from sklearn instead.\n",
      "  warnings.warn(msg, category=DeprecationWarning)\n"
     ]
    }
   ],
   "source": [
    "test_table = em.impute_table(test_table, \n",
    "                exclude_attrs=['id', 'ltable_id', 'rtable_id'],\n",
    "                strategy='mean')"
   ]
  },
  {
   "cell_type": "code",
   "execution_count": 14,
   "metadata": {},
   "outputs": [
    {
     "name": "stderr",
     "output_type": "stream",
     "text": [
      "C:\\Anaconda2\\envs\\tfdeeplearning\\lib\\site-packages\\sklearn\\ensemble\\forest.py:248: FutureWarning: The default value of n_estimators will change from 10 in version 0.20 to 100 in 0.22.\n",
      "  \"10 in version 0.20 to 100 in 0.22.\", FutureWarning)\n",
      "C:\\Anaconda2\\envs\\tfdeeplearning\\lib\\site-packages\\sklearn\\svm\\base.py:196: FutureWarning: The default value of gamma will change from 'auto' to 'scale' in version 0.22 to account better for unscaled features. Set gamma explicitly to 'auto' or 'scale' to avoid this warning.\n",
      "  \"avoid this warning.\", FutureWarning)\n",
      "C:\\Anaconda2\\envs\\tfdeeplearning\\lib\\site-packages\\sklearn\\linear_model\\logistic.py:432: FutureWarning: Default solver will be changed to 'lbfgs' in 0.22. Specify a solver to silence this warning.\n",
      "  FutureWarning)\n"
     ]
    }
   ],
   "source": [
    "classifiers = np.array([dt, rf, svm, ln, lg, nb, xg])\n",
    "i = 1\n",
    "res = []\n",
    "for c in classifiers:\n",
    "    \n",
    "    c.fit(table=train_table, exclude_attrs=['id', 'ltable_id', 'rtable_id', 'label'], target_attr='label')\n",
    "    \n",
    "    \n",
    "    predictions = c.predict(table=test_table, exclude_attrs=['id', 'ltable_id', 'rtable_id'], \n",
    "                             append=True, target_attr='label', inplace=False)\n",
    "    \n",
    "    # predictions[['id', 'label']].to_csv(\"submission\"+str(i)+\".csv\", index=False)\n",
    "    i += 1\n",
    "    res.append(predictions[['id', 'label']])"
   ]
  },
  {
   "cell_type": "code",
   "execution_count": 15,
   "metadata": {
    "collapsed": true
   },
   "outputs": [],
   "source": [
    "# results only using xgboost matcher, best result I got\n",
    "res[6].to_csv('xg_res.csv', float_format='%.f', index=False)"
   ]
  },
  {
   "cell_type": "code",
   "execution_count": 16,
   "metadata": {
    "collapsed": true
   },
   "outputs": [],
   "source": [
    "emsembled_res = pd.DataFrame(columns = ['id', 'label'])"
   ]
  },
  {
   "cell_type": "code",
   "execution_count": 17,
   "metadata": {
    "collapsed": true
   },
   "outputs": [],
   "source": [
    "emsembled_res['id'] = res[0]['id']\n",
    "emsembled_res['label'] = 0"
   ]
  },
  {
   "cell_type": "code",
   "execution_count": 18,
   "metadata": {
    "collapsed": true
   },
   "outputs": [],
   "source": [
    "w = [0,0,0,1,1,0,1]\n",
    "for i in range(7):\n",
    "    emsembled_res['label'] += res[i]['label'] * w[i]"
   ]
  },
  {
   "cell_type": "code",
   "execution_count": 19,
   "metadata": {
    "collapsed": true
   },
   "outputs": [],
   "source": [
    "emsembled_res['label'] = round(emsembled_res['label'] / sum(w))"
   ]
  },
  {
   "cell_type": "code",
   "execution_count": 20,
   "metadata": {
    "collapsed": true
   },
   "outputs": [],
   "source": [
    "# results using voting from different matcher\n",
    "emsembled_res.to_csv('ensemble_res.csv', float_format='%.f', index=False)"
   ]
  }
 ],
 "metadata": {
  "kernelspec": {
   "display_name": "Python 3",
   "language": "python",
   "name": "python3"
  },
  "language_info": {
   "codemirror_mode": {
    "name": "ipython",
    "version": 3
   },
   "file_extension": ".py",
   "mimetype": "text/x-python",
   "name": "python",
   "nbconvert_exporter": "python",
   "pygments_lexer": "ipython3",
   "version": "3.5.4"
  }
 },
 "nbformat": 4,
 "nbformat_minor": 2
}
