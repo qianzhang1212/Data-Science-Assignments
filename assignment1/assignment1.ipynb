{
 "cells": [
  {
   "cell_type": "markdown",
   "metadata": {},
   "source": [
    "# Programming Assignment 1: Sentiment Analysis of Twitter Data\n",
    "\n",
    "Twitter has emerged as a fundamentally new instrument to obtain social measurements. For example, researchers have shown that the \"mood\" of communication on twitter can be used to predict the stock market. \n",
    "\n",
    "In this programming assignment you will:\n",
    "\n",
    "* Load and prepare a collected set of twitter data for analysis\n",
    "* You will estimate the sentiment associated with individual tweets\n",
    "* You will estimate the sentiment of a particular term\n",
    "\n",
    "Please keep in mind the following points:\n",
    "* This assignment is open-ended in several ways. You will need to make some decisions about how to best solve each of the problems mentioned above.\n",
    "* **It is absolutely fine to discuss your solutions with your classmates (either in person or in Piazza) but you are not allowed to share code.**\n",
    "* **Each student must submit their own solution via CANVAS.**\n",
    "* You will have unlimited number of uploads to CANVAS."
   ]
  },
  {
   "cell_type": "markdown",
   "metadata": {},
   "source": [
    "## Formatting of Twitter Data\n",
    "\n",
    "Strings in the twitter data prefixed with the letter \"u\" are unicode strings. For example: `u\"This is a string\"`.\n",
    "\n",
    "Unicode is a standard for representing a mach larger variety of characters beyond the roma alphabet (greek, russian, mathematical symbols, logograms from non-phonetic writing systems, etc.).\n",
    "\n",
    "In most circumstances, you will be able to use a unicode object just like a string.\n",
    "\n",
    "If you encounter an error involving printing unicode, you can use the [encode](https://docs.python.org/3/library/stdtypes.html#str.encode) method to properly print the international characters. You can find more information about UNICODE and Python 3 [here](https://docs.python.org/3/howto/unicode.html)."
   ]
  },
  {
   "cell_type": "markdown",
   "metadata": {},
   "source": [
    "# Question 1: Loading and Cleaning Twitter Data [20 points]\n",
    "\n",
    "In this first part, you will neeed to load a sample of tweets in memory and prepare them for analysis. The tweets are stored in the file `tweets.json`. This file follows the *JSON* format. JSON stands for JavaScript Object Notation. It is a simple format for representing nested structres of data --- lists of lists of dictionaries of lists of ... you get the idea.\n",
    "\n",
    "Each line in of `tweets.json` represents a message. It is straightforward to convert a JSON string into a Python data structure; there is a library to do so called `json`. Below we will show you how to load the data and how to parse the first line in the `tweets.json` file."
   ]
  },
  {
   "cell_type": "code",
   "execution_count": 12,
   "metadata": {},
   "outputs": [
    {
     "name": "stdout",
     "output_type": "stream",
     "text": [
      "{'delete': {'status': {'id': 616962824619687936, 'id_str': '616962824619687936', 'user_id': 3061937538, 'user_id_str': '3061937538'}, 'timestamp_ms': '1439761273410'}}\n",
      "{'created_at': 'Sun Aug 16 21:41:13 +0000 2015', 'id': 633030779619012608, 'id_str': '633030779619012608', 'text': 'ايه الأكل 😜', 'source': '<a href=\"http://twitter.com/download/iphone\" rel=\"nofollow\">Twitter for iPhone</a>', 'truncated': False, 'in_reply_to_status_id': None, 'in_reply_to_status_id_str': None, 'in_reply_to_user_id': None, 'in_reply_to_user_id_str': None, 'in_reply_to_screen_name': None, 'user': {'id': 1305908600, 'id_str': '1305908600', 'name': 'شخصيه دبلوِماسيّة.!ّ', 'screen_name': 'snoow3333', 'location': '', 'url': None, 'description': 'عشت مدلُلُةّ ۆلاأشبہ أحٍد فقط لاأنني أبْنْتٌہ ربط إسمي ب #شخصيه_دبلوماسية..........وينِ بكون أنا بًأحًلَآمًکْ طبعآツ', 'protected': False, 'verified': False, 'followers_count': 18816, 'friends_count': 7559, 'listed_count': 25, 'favourites_count': 14468, 'statuses_count': 133539, 'created_at': 'Tue Mar 26 23:22:14 +0000 2013', 'utc_offset': 10800, 'time_zone': 'Nairobi', 'geo_enabled': False, 'lang': 'ar', 'contributors_enabled': False, 'is_translator': False, 'profile_background_color': 'C0DEED', 'profile_background_image_url': 'http://abs.twimg.com/images/themes/theme1/bg.png', 'profile_background_image_url_https': 'https://abs.twimg.com/images/themes/theme1/bg.png', 'profile_background_tile': True, 'profile_link_color': '0084B4', 'profile_sidebar_border_color': 'FFFFFF', 'profile_sidebar_fill_color': 'DDEEF6', 'profile_text_color': '333333', 'profile_use_background_image': True, 'profile_image_url': 'http://pbs.twimg.com/profile_images/615338552402948097/k0eOXDro_normal.jpg', 'profile_image_url_https': 'https://pbs.twimg.com/profile_images/615338552402948097/k0eOXDro_normal.jpg', 'profile_banner_url': 'https://pbs.twimg.com/profile_banners/1305908600/1433459409', 'default_profile': False, 'default_profile_image': False, 'following': None, 'follow_request_sent': None, 'notifications': None}, 'geo': None, 'coordinates': None, 'place': None, 'contributors': None, 'retweet_count': 0, 'favorite_count': 0, 'entities': {'hashtags': [], 'trends': [], 'urls': [], 'user_mentions': [], 'symbols': []}, 'favorited': False, 'retweeted': False, 'possibly_sensitive': False, 'filter_level': 'low', 'lang': 'ar', 'timestamp_ms': '1439761273661'}\n",
      "{'created_at': 'Sun Aug 16 21:41:13 +0000 2015', 'id': 633030779610664960, 'id_str': '633030779610664960', 'text': 'RT @nitishuna: @LasVegasChicas @I_luv_reds @DimondLadies @SiliconEros @herby2121 @hughcox69 @VxExx @Swt_Red @tthumb9090 @raggdoll_98 http:/…', 'source': '<a href=\"http://twitter.com/download/iphone\" rel=\"nofollow\">Twitter for iPhone</a>', 'truncated': False, 'in_reply_to_status_id': None, 'in_reply_to_status_id_str': None, 'in_reply_to_user_id': None, 'in_reply_to_user_id_str': None, 'in_reply_to_screen_name': None, 'user': {'id': 3030384930, 'id_str': '3030384930', 'name': 'styles', 'screen_name': 'balwinderstyles', 'location': '', 'url': None, 'description': None, 'protected': False, 'verified': False, 'followers_count': 2463, 'friends_count': 566, 'listed_count': 19, 'favourites_count': 7829, 'statuses_count': 9917, 'created_at': 'Thu Feb 19 15:22:15 +0000 2015', 'utc_offset': None, 'time_zone': None, 'geo_enabled': True, 'lang': 'en', 'contributors_enabled': False, 'is_translator': False, 'profile_background_color': 'C0DEED', 'profile_background_image_url': 'http://abs.twimg.com/images/themes/theme1/bg.png', 'profile_background_image_url_https': 'https://abs.twimg.com/images/themes/theme1/bg.png', 'profile_background_tile': False, 'profile_link_color': '0084B4', 'profile_sidebar_border_color': 'C0DEED', 'profile_sidebar_fill_color': 'DDEEF6', 'profile_text_color': '333333', 'profile_use_background_image': True, 'profile_image_url': 'http://pbs.twimg.com/profile_images/599589162744840192/LxOH63HU_normal.jpg', 'profile_image_url_https': 'https://pbs.twimg.com/profile_images/599589162744840192/LxOH63HU_normal.jpg', 'profile_banner_url': 'https://pbs.twimg.com/profile_banners/3030384930/1439232099', 'default_profile': True, 'default_profile_image': False, 'following': None, 'follow_request_sent': None, 'notifications': None}, 'geo': None, 'coordinates': None, 'place': None, 'contributors': None, 'retweeted_status': {'created_at': 'Sun Aug 16 18:38:02 +0000 2015', 'id': 632984680887812096, 'id_str': '632984680887812096', 'text': '@LasVegasChicas @I_luv_reds @DimondLadies @SiliconEros @herby2121 @hughcox69 @VxExx @Swt_Red @tthumb9090 @raggdoll_98 http://t.co/IdjGgfgncz', 'source': '<a href=\"http://twitter.com/download/iphone\" rel=\"nofollow\">Twitter for iPhone</a>', 'truncated': False, 'in_reply_to_status_id': 632982908068864000, 'in_reply_to_status_id_str': '632982908068864000', 'in_reply_to_user_id': 737103644, 'in_reply_to_user_id_str': '737103644', 'in_reply_to_screen_name': 'LasVegasChicas', 'user': {'id': 445865965, 'id_str': '445865965', 'name': 'Just4fun', 'screen_name': 'nitishuna', 'location': '', 'url': None, 'description': '#RT | I Share What I Find #Beautiful | Nothing better than a touch of fun | No expectations means no disappointments | #Follow @micelle79 @balwinderstyles', 'protected': False, 'verified': False, 'followers_count': 15926, 'friends_count': 771, 'listed_count': 92, 'favourites_count': 17683, 'statuses_count': 27017, 'created_at': 'Sun Dec 25 00:35:36 +0000 2011', 'utc_offset': 19800, 'time_zone': 'New Delhi', 'geo_enabled': False, 'lang': 'en', 'contributors_enabled': False, 'is_translator': False, 'profile_background_color': 'C0DEED', 'profile_background_image_url': 'http://abs.twimg.com/images/themes/theme1/bg.png', 'profile_background_image_url_https': 'https://abs.twimg.com/images/themes/theme1/bg.png', 'profile_background_tile': False, 'profile_link_color': '0084B4', 'profile_sidebar_border_color': 'C0DEED', 'profile_sidebar_fill_color': 'DDEEF6', 'profile_text_color': '333333', 'profile_use_background_image': True, 'profile_image_url': 'http://pbs.twimg.com/profile_images/574313941012115458/vSAmzsWR_normal.jpeg', 'profile_image_url_https': 'https://pbs.twimg.com/profile_images/574313941012115458/vSAmzsWR_normal.jpeg', 'profile_banner_url': 'https://pbs.twimg.com/profile_banners/445865965/1425762664', 'default_profile': True, 'default_profile_image': False, 'following': None, 'follow_request_sent': None, 'notifications': None}, 'geo': None, 'coordinates': None, 'place': None, 'contributors': None, 'retweet_count': 12, 'favorite_count': 25, 'entities': {'hashtags': [], 'trends': [], 'urls': [], 'user_mentions': [{'screen_name': 'LasVegasChicas', 'name': 'What Happens n Vegas', 'id': 737103644, 'id_str': '737103644', 'indices': [0, 15]}, {'screen_name': 'I_luv_reds', 'name': 'I_luv_reds', 'id': 718927286, 'id_str': '718927286', 'indices': [16, 27]}, {'screen_name': 'DimondLadies', 'name': '⭐Dimond Ladies⭐', 'id': 2714436740, 'id_str': '2714436740', 'indices': [28, 41]}, {'screen_name': 'SiliconEros', 'name': 'Silicon Eros', 'id': 2848949950, 'id_str': '2848949950', 'indices': [42, 54]}, {'screen_name': 'herby2121', 'name': '☆ herby2121 ☆86K ', 'id': 2274691870, 'id_str': '2274691870', 'indices': [55, 65]}, {'screen_name': 'hughcox69', 'name': 'ᑎᑌᗪE ᑭᕼOTOGᖇᗩᑭᕼY 82k', 'id': 2767126967, 'id_str': '2767126967', 'indices': [66, 76]}, {'screen_name': 'VxExx', 'name': '#VenusExchange☀43K☀', 'id': 3229432811, 'id_str': '3229432811', 'indices': [77, 83]}, {'screen_name': 'Swt_Red', 'name': '✨ Sweet Red ✨', 'id': 3087022267, 'id_str': '3087022267', 'indices': [84, 92]}, {'screen_name': 'tthumb9090', 'name': 'Mr Tasty ♻69K♻', 'id': 2665853560, 'id_str': '2665853560', 'indices': [93, 104]}, {'screen_name': 'raggdoll_98', 'name': 'His Girl ', 'id': 352691921, 'id_str': '352691921', 'indices': [105, 117]}], 'symbols': [], 'media': [{'id': 632984655252160512, 'id_str': '632984655252160512', 'indices': [118, 140], 'media_url': 'http://pbs.twimg.com/media/CMjQMLSUAAAfMUW.jpg', 'media_url_https': 'https://pbs.twimg.com/media/CMjQMLSUAAAfMUW.jpg', 'url': 'http://t.co/IdjGgfgncz', 'display_url': 'pic.twitter.com/IdjGgfgncz', 'expanded_url': 'http://twitter.com/nitishuna/status/632984680887812096/photo/1', 'type': 'photo', 'sizes': {'medium': {'w': 500, 'h': 750, 'resize': 'fit'}, 'thumb': {'w': 150, 'h': 150, 'resize': 'crop'}, 'large': {'w': 500, 'h': 750, 'resize': 'fit'}, 'small': {'w': 340, 'h': 510, 'resize': 'fit'}}}]}, 'extended_entities': {'media': [{'id': 632984655252160512, 'id_str': '632984655252160512', 'indices': [118, 140], 'media_url': 'http://pbs.twimg.com/media/CMjQMLSUAAAfMUW.jpg', 'media_url_https': 'https://pbs.twimg.com/media/CMjQMLSUAAAfMUW.jpg', 'url': 'http://t.co/IdjGgfgncz', 'display_url': 'pic.twitter.com/IdjGgfgncz', 'expanded_url': 'http://twitter.com/nitishuna/status/632984680887812096/photo/1', 'type': 'photo', 'sizes': {'medium': {'w': 500, 'h': 750, 'resize': 'fit'}, 'thumb': {'w': 150, 'h': 150, 'resize': 'crop'}, 'large': {'w': 500, 'h': 750, 'resize': 'fit'}, 'small': {'w': 340, 'h': 510, 'resize': 'fit'}}}]}, 'favorited': False, 'retweeted': False, 'possibly_sensitive': False, 'filter_level': 'low', 'lang': 'und'}, 'retweet_count': 0, 'favorite_count': 0, 'entities': {'hashtags': [], 'trends': [], 'urls': [], 'user_mentions': [{'screen_name': 'nitishuna', 'name': 'Just4fun', 'id': 445865965, 'id_str': '445865965', 'indices': [3, 13]}, {'screen_name': 'LasVegasChicas', 'name': 'What Happens n Vegas', 'id': 737103644, 'id_str': '737103644', 'indices': [15, 30]}, {'screen_name': 'I_luv_reds', 'name': 'I_luv_reds', 'id': 718927286, 'id_str': '718927286', 'indices': [31, 42]}, {'screen_name': 'DimondLadies', 'name': '⭐Dimond Ladies⭐', 'id': 2714436740, 'id_str': '2714436740', 'indices': [43, 56]}, {'screen_name': 'SiliconEros', 'name': 'Silicon Eros', 'id': 2848949950, 'id_str': '2848949950', 'indices': [57, 69]}, {'screen_name': 'herby2121', 'name': '☆ herby2121 ☆86K ', 'id': 2274691870, 'id_str': '2274691870', 'indices': [70, 80]}, {'screen_name': 'hughcox69', 'name': 'ᑎᑌᗪE ᑭᕼOTOGᖇᗩᑭᕼY 82k', 'id': 2767126967, 'id_str': '2767126967', 'indices': [81, 91]}, {'screen_name': 'VxExx', 'name': '#VenusExchange☀43K☀', 'id': 3229432811, 'id_str': '3229432811', 'indices': [92, 98]}, {'screen_name': 'Swt_Red', 'name': '✨ Sweet Red ✨', 'id': 3087022267, 'id_str': '3087022267', 'indices': [99, 107]}, {'screen_name': 'tthumb9090', 'name': 'Mr Tasty ♻69K♻', 'id': 2665853560, 'id_str': '2665853560', 'indices': [108, 119]}, {'screen_name': 'raggdoll_98', 'name': 'His Girl ', 'id': 352691921, 'id_str': '352691921', 'indices': [120, 132]}], 'symbols': [], 'media': [{'id': 632984655252160512, 'id_str': '632984655252160512', 'indices': [139, 140], 'media_url': 'http://pbs.twimg.com/media/CMjQMLSUAAAfMUW.jpg', 'media_url_https': 'https://pbs.twimg.com/media/CMjQMLSUAAAfMUW.jpg', 'url': 'http://t.co/IdjGgfgncz', 'display_url': 'pic.twitter.com/IdjGgfgncz', 'expanded_url': 'http://twitter.com/nitishuna/status/632984680887812096/photo/1', 'type': 'photo', 'sizes': {'medium': {'w': 500, 'h': 750, 'resize': 'fit'}, 'thumb': {'w': 150, 'h': 150, 'resize': 'crop'}, 'large': {'w': 500, 'h': 750, 'resize': 'fit'}, 'small': {'w': 340, 'h': 510, 'resize': 'fit'}}, 'source_status_id': 632984680887812096, 'source_status_id_str': '632984680887812096'}]}, 'extended_entities': {'media': [{'id': 632984655252160512, 'id_str': '632984655252160512', 'indices': [139, 140], 'media_url': 'http://pbs.twimg.com/media/CMjQMLSUAAAfMUW.jpg', 'media_url_https': 'https://pbs.twimg.com/media/CMjQMLSUAAAfMUW.jpg', 'url': 'http://t.co/IdjGgfgncz', 'display_url': 'pic.twitter.com/IdjGgfgncz', 'expanded_url': 'http://twitter.com/nitishuna/status/632984680887812096/photo/1', 'type': 'photo', 'sizes': {'medium': {'w': 500, 'h': 750, 'resize': 'fit'}, 'thumb': {'w': 150, 'h': 150, 'resize': 'crop'}, 'large': {'w': 500, 'h': 750, 'resize': 'fit'}, 'small': {'w': 340, 'h': 510, 'resize': 'fit'}}, 'source_status_id': 632984680887812096, 'source_status_id_str': '632984680887812096'}]}, 'favorited': False, 'retweeted': False, 'possibly_sensitive': False, 'filter_level': 'low', 'lang': 'und', 'timestamp_ms': '1439761273659'}\n",
      "{'created_at': 'Sun Aug 16 21:41:13 +0000 2015', 'id': 633030779631566848, 'id_str': '633030779631566848', 'text': 'إنّ العرب إذا تغلبوا على أوطان أسرع إليها الخراب والسبب في ذلك أنها أمة وحشية بإستحكام عوائد التوحش وأسبابه فصار لهم خلقة وجبلة\\n\\n- ابن خلدون', 'source': '<a href=\"http://twitter.com/download/iphone\" rel=\"nofollow\">Twitter for iPhone</a>', 'truncated': False, 'in_reply_to_status_id': None, 'in_reply_to_status_id_str': None, 'in_reply_to_user_id': None, 'in_reply_to_user_id_str': None, 'in_reply_to_screen_name': None, 'user': {'id': 3110676047, 'id_str': '3110676047', 'name': 'اقتباس', 'screen_name': 'eqtybas', 'location': '', 'url': None, 'description': 'أجمل ماقال الحكماء على مر الأزمان', 'protected': False, 'verified': False, 'followers_count': 268, 'friends_count': 0, 'listed_count': 1, 'favourites_count': 2, 'statuses_count': 238, 'created_at': 'Tue Mar 24 15:56:17 +0000 2015', 'utc_offset': -25200, 'time_zone': 'Pacific Time (US & Canada)', 'geo_enabled': False, 'lang': 'en', 'contributors_enabled': False, 'is_translator': False, 'profile_background_color': '000000', 'profile_background_image_url': 'http://abs.twimg.com/images/themes/theme1/bg.png', 'profile_background_image_url_https': 'https://abs.twimg.com/images/themes/theme1/bg.png', 'profile_background_tile': False, 'profile_link_color': '9266CC', 'profile_sidebar_border_color': '000000', 'profile_sidebar_fill_color': '000000', 'profile_text_color': '000000', 'profile_use_background_image': False, 'profile_image_url': 'http://pbs.twimg.com/profile_images/615442793637347328/bRkcNeZS_normal.png', 'profile_image_url_https': 'https://pbs.twimg.com/profile_images/615442793637347328/bRkcNeZS_normal.png', 'default_profile': False, 'default_profile_image': False, 'following': None, 'follow_request_sent': None, 'notifications': None}, 'geo': None, 'coordinates': None, 'place': None, 'contributors': None, 'retweet_count': 0, 'favorite_count': 0, 'entities': {'hashtags': [], 'trends': [], 'urls': [], 'user_mentions': [], 'symbols': []}, 'favorited': False, 'retweeted': False, 'possibly_sensitive': False, 'filter_level': 'low', 'lang': 'ar', 'timestamp_ms': '1439761273664'}\n",
      "{'created_at': 'Sun Aug 16 21:41:13 +0000 2015', 'id': 633030779606466560, 'id_str': '633030779606466560', 'text': 'RT @moonmona7: لن الومك على رِحيلك ...\\nفَـقٌـدْ رِحلت  لأٌنـَي ْ اَشٌـبَـعـتك ٌ حبآ حـتى  أكتفيت. .. http://t.co/ceD9aTiFfI', 'source': '<a href=\"http://twitter.com/download/iphone\" rel=\"nofollow\">Twitter for iPhone</a>', 'truncated': False, 'in_reply_to_status_id': None, 'in_reply_to_status_id_str': None, 'in_reply_to_user_id': None, 'in_reply_to_user_id_str': None, 'in_reply_to_screen_name': None, 'user': {'id': 586818520, 'id_str': '586818520', 'name': 'N.ALSHAHRI', 'screen_name': 'Anaalzeenn', 'location': '\\u200f\\u200b\\u200f\\u200b\\u200f\\u200b\\u200f\\u200b\\u200f\\u200b\\u200f\\u200b\\u200f\\u200b', 'url': None, 'description': 'http://anaalzeenn.tumblr.com', 'protected': False, 'verified': False, 'followers_count': 332, 'friends_count': 277, 'listed_count': 0, 'favourites_count': 153, 'statuses_count': 1467, 'created_at': 'Mon May 21 19:39:58 +0000 2012', 'utc_offset': None, 'time_zone': None, 'geo_enabled': True, 'lang': 'en', 'contributors_enabled': False, 'is_translator': False, 'profile_background_color': 'C0DEED', 'profile_background_image_url': 'http://abs.twimg.com/images/themes/theme1/bg.png', 'profile_background_image_url_https': 'https://abs.twimg.com/images/themes/theme1/bg.png', 'profile_background_tile': False, 'profile_link_color': '0084B4', 'profile_sidebar_border_color': 'C0DEED', 'profile_sidebar_fill_color': 'DDEEF6', 'profile_text_color': '333333', 'profile_use_background_image': True, 'profile_image_url': 'http://pbs.twimg.com/profile_images/512611052958138368/IZvuvMgu_normal.png', 'profile_image_url_https': 'https://pbs.twimg.com/profile_images/512611052958138368/IZvuvMgu_normal.png', 'profile_banner_url': 'https://pbs.twimg.com/profile_banners/586818520/1402684145', 'default_profile': True, 'default_profile_image': False, 'following': None, 'follow_request_sent': None, 'notifications': None}, 'geo': None, 'coordinates': None, 'place': None, 'contributors': None, 'retweeted_status': {'created_at': 'Sun Aug 16 16:01:06 +0000 2015', 'id': 632945185866018817, 'id_str': '632945185866018817', 'text': 'لن الومك على رِحيلك ...\\nفَـقٌـدْ رِحلت  لأٌنـَي ْ اَشٌـبَـعـتك ٌ حبآ حـتى  أكتفيت. .. http://t.co/ceD9aTiFfI', 'source': '<a href=\"http://twitter.com/download/android\" rel=\"nofollow\">Twitter for Android</a>', 'truncated': False, 'in_reply_to_status_id': None, 'in_reply_to_status_id_str': None, 'in_reply_to_user_id': None, 'in_reply_to_user_id_str': None, 'in_reply_to_screen_name': None, 'user': {'id': 196273015, 'id_str': '196273015', 'name': 'منــــــى الهاشمي', 'screen_name': 'moonmona7', 'location': 'ابوظبي_❤_abudhabi   #UAE', 'url': None, 'description': '\\u200f\\u200f\\u200f\\u200f\\u200f\\u200f\\u200f\\u200f\\u200f\\u200f\\u200f\\u200f\\u200f\\u200f\\u200f\\u200f\\u200f\\u200f\\u200f\\u200f\\u200f\\u200f\\u200fأجمل حب في الوجود حب ( الله ) ... الخاص ممنوع -( ما ينبض به قلبي تجسده حروفي - وما يروق لي أقتبسه هنا )', 'protected': False, 'verified': False, 'followers_count': 135426, 'friends_count': 113260, 'listed_count': 117, 'favourites_count': 6808, 'statuses_count': 11768, 'created_at': 'Tue Sep 28 18:52:17 +0000 2010', 'utc_offset': 14400, 'time_zone': 'Abu Dhabi', 'geo_enabled': True, 'lang': 'ar', 'contributors_enabled': False, 'is_translator': False, 'profile_background_color': 'C0DEED', 'profile_background_image_url': 'http://abs.twimg.com/images/themes/theme1/bg.png', 'profile_background_image_url_https': 'https://abs.twimg.com/images/themes/theme1/bg.png', 'profile_background_tile': False, 'profile_link_color': '0084B4', 'profile_sidebar_border_color': 'C0DEED', 'profile_sidebar_fill_color': 'DDEEF6', 'profile_text_color': '333333', 'profile_use_background_image': True, 'profile_image_url': 'http://pbs.twimg.com/profile_images/548572098344398848/7sErNY7Y_normal.jpeg', 'profile_image_url_https': 'https://pbs.twimg.com/profile_images/548572098344398848/7sErNY7Y_normal.jpeg', 'profile_banner_url': 'https://pbs.twimg.com/profile_banners/196273015/1439723717', 'default_profile': True, 'default_profile_image': False, 'following': None, 'follow_request_sent': None, 'notifications': None}, 'geo': None, 'coordinates': None, 'place': None, 'contributors': None, 'retweet_count': 15, 'favorite_count': 13, 'entities': {'hashtags': [], 'trends': [], 'urls': [], 'user_mentions': [], 'symbols': [], 'media': [{'id': 632945184238649344, 'id_str': '632945184238649344', 'indices': [86, 108], 'media_url': 'http://pbs.twimg.com/media/CMisSqTWwAARmiH.jpg', 'media_url_https': 'https://pbs.twimg.com/media/CMisSqTWwAARmiH.jpg', 'url': 'http://t.co/ceD9aTiFfI', 'display_url': 'pic.twitter.com/ceD9aTiFfI', 'expanded_url': 'http://twitter.com/moonmona7/status/632945185866018817/photo/1', 'type': 'photo', 'sizes': {'large': {'w': 442, 'h': 442, 'resize': 'fit'}, 'thumb': {'w': 150, 'h': 150, 'resize': 'crop'}, 'small': {'w': 340, 'h': 340, 'resize': 'fit'}, 'medium': {'w': 442, 'h': 442, 'resize': 'fit'}}}]}, 'extended_entities': {'media': [{'id': 632945184238649344, 'id_str': '632945184238649344', 'indices': [86, 108], 'media_url': 'http://pbs.twimg.com/media/CMisSqTWwAARmiH.jpg', 'media_url_https': 'https://pbs.twimg.com/media/CMisSqTWwAARmiH.jpg', 'url': 'http://t.co/ceD9aTiFfI', 'display_url': 'pic.twitter.com/ceD9aTiFfI', 'expanded_url': 'http://twitter.com/moonmona7/status/632945185866018817/photo/1', 'type': 'photo', 'sizes': {'large': {'w': 442, 'h': 442, 'resize': 'fit'}, 'thumb': {'w': 150, 'h': 150, 'resize': 'crop'}, 'small': {'w': 340, 'h': 340, 'resize': 'fit'}, 'medium': {'w': 442, 'h': 442, 'resize': 'fit'}}}]}, 'favorited': False, 'retweeted': False, 'possibly_sensitive': False, 'filter_level': 'low', 'lang': 'ar'}, 'retweet_count': 0, 'favorite_count': 0, 'entities': {'hashtags': [], 'trends': [], 'urls': [], 'user_mentions': [{'screen_name': 'moonmona7', 'name': 'منــــــى الهاشمي', 'id': 196273015, 'id_str': '196273015', 'indices': [3, 13]}], 'symbols': [], 'media': [{'id': 632945184238649344, 'id_str': '632945184238649344', 'indices': [101, 123], 'media_url': 'http://pbs.twimg.com/media/CMisSqTWwAARmiH.jpg', 'media_url_https': 'https://pbs.twimg.com/media/CMisSqTWwAARmiH.jpg', 'url': 'http://t.co/ceD9aTiFfI', 'display_url': 'pic.twitter.com/ceD9aTiFfI', 'expanded_url': 'http://twitter.com/moonmona7/status/632945185866018817/photo/1', 'type': 'photo', 'sizes': {'large': {'w': 442, 'h': 442, 'resize': 'fit'}, 'thumb': {'w': 150, 'h': 150, 'resize': 'crop'}, 'small': {'w': 340, 'h': 340, 'resize': 'fit'}, 'medium': {'w': 442, 'h': 442, 'resize': 'fit'}}, 'source_status_id': 632945185866018817, 'source_status_id_str': '632945185866018817'}]}, 'extended_entities': {'media': [{'id': 632945184238649344, 'id_str': '632945184238649344', 'indices': [101, 123], 'media_url': 'http://pbs.twimg.com/media/CMisSqTWwAARmiH.jpg', 'media_url_https': 'https://pbs.twimg.com/media/CMisSqTWwAARmiH.jpg', 'url': 'http://t.co/ceD9aTiFfI', 'display_url': 'pic.twitter.com/ceD9aTiFfI', 'expanded_url': 'http://twitter.com/moonmona7/status/632945185866018817/photo/1', 'type': 'photo', 'sizes': {'large': {'w': 442, 'h': 442, 'resize': 'fit'}, 'thumb': {'w': 150, 'h': 150, 'resize': 'crop'}, 'small': {'w': 340, 'h': 340, 'resize': 'fit'}, 'medium': {'w': 442, 'h': 442, 'resize': 'fit'}}, 'source_status_id': 632945185866018817, 'source_status_id_str': '632945185866018817'}]}, 'favorited': False, 'retweeted': False, 'possibly_sensitive': False, 'filter_level': 'low', 'lang': 'ar', 'timestamp_ms': '1439761273658'}\n",
      "{'created_at': 'Sun Aug 16 21:41:13 +0000 2015', 'id': 633030779623206912, 'id_str': '633030779623206912', 'text': '@16_Pirates any shots?', 'source': '<a href=\"http://twitter.com/download/android\" rel=\"nofollow\">Twitter for Android</a>', 'truncated': False, 'in_reply_to_status_id': 633030587733798912, 'in_reply_to_status_id_str': '633030587733798912', 'in_reply_to_user_id': 542222500, 'in_reply_to_user_id_str': '542222500', 'in_reply_to_screen_name': '16_Pirates', 'user': {'id': 425394759, 'id_str': '425394759', 'name': 'Braydoe ', 'screen_name': 'BraydenKade', 'location': '', 'url': None, 'description': '801 IG & SC: Braydenkade', 'protected': False, 'verified': False, 'followers_count': 321, 'friends_count': 274, 'listed_count': 0, 'favourites_count': 3160, 'statuses_count': 7013, 'created_at': 'Wed Nov 30 23:21:33 +0000 2011', 'utc_offset': None, 'time_zone': None, 'geo_enabled': True, 'lang': 'en', 'contributors_enabled': False, 'is_translator': False, 'profile_background_color': 'C0DEED', 'profile_background_image_url': 'http://abs.twimg.com/images/themes/theme1/bg.png', 'profile_background_image_url_https': 'https://abs.twimg.com/images/themes/theme1/bg.png', 'profile_background_tile': False, 'profile_link_color': '0084B4', 'profile_sidebar_border_color': 'C0DEED', 'profile_sidebar_fill_color': 'DDEEF6', 'profile_text_color': '333333', 'profile_use_background_image': True, 'profile_image_url': 'http://pbs.twimg.com/profile_images/622558667557048320/t-18HzWQ_normal.jpg', 'profile_image_url_https': 'https://pbs.twimg.com/profile_images/622558667557048320/t-18HzWQ_normal.jpg', 'profile_banner_url': 'https://pbs.twimg.com/profile_banners/425394759/1402107210', 'default_profile': True, 'default_profile_image': False, 'following': None, 'follow_request_sent': None, 'notifications': None}, 'geo': None, 'coordinates': None, 'place': None, 'contributors': None, 'retweet_count': 0, 'favorite_count': 0, 'entities': {'hashtags': [], 'trends': [], 'urls': [], 'user_mentions': [{'screen_name': '16_Pirates', 'name': 'Josh Painton', 'id': 542222500, 'id_str': '542222500', 'indices': [0, 11]}], 'symbols': []}, 'favorited': False, 'retweeted': False, 'possibly_sensitive': False, 'filter_level': 'low', 'lang': 'en', 'timestamp_ms': '1439761273662'}\n",
      "{'created_at': 'Sun Aug 16 21:41:13 +0000 2015', 'id': 633030779602243584, 'id_str': '633030779602243584', 'text': 'RT @Cancer_gk: A #Cancer may act shy and quiet, but will adamantly defend a loved one against outsiders.', 'source': '<a href=\"https://mobile.twitter.com\" rel=\"nofollow\">Mobile Web (M2)</a>', 'truncated': False, 'in_reply_to_status_id': None, 'in_reply_to_status_id_str': None, 'in_reply_to_user_id': None, 'in_reply_to_user_id_str': None, 'in_reply_to_screen_name': None, 'user': {'id': 2254825403, 'id_str': '2254825403', 'name': 'Halima', 'screen_name': 'Halima1_', 'location': 'Khulna,Bangladesh', 'url': 'http://www.wattpad.com/user/IamTheRainbowGirl#', 'description': 'Life is short. So Smile while you still have Teeth :D', 'protected': False, 'verified': False, 'followers_count': 13, 'friends_count': 76, 'listed_count': 1, 'favourites_count': 94, 'statuses_count': 202, 'created_at': 'Tue Dec 31 18:23:11 +0000 2013', 'utc_offset': None, 'time_zone': None, 'geo_enabled': True, 'lang': 'en', 'contributors_enabled': False, 'is_translator': False, 'profile_background_color': 'C0DEED', 'profile_background_image_url': 'http://abs.twimg.com/images/themes/theme1/bg.png', 'profile_background_image_url_https': 'https://abs.twimg.com/images/themes/theme1/bg.png', 'profile_background_tile': False, 'profile_link_color': '0084B4', 'profile_sidebar_border_color': 'C0DEED', 'profile_sidebar_fill_color': 'DDEEF6', 'profile_text_color': '333333', 'profile_use_background_image': True, 'profile_image_url': 'http://pbs.twimg.com/profile_images/620370354624565248/Cj1XOLNZ_normal.jpg', 'profile_image_url_https': 'https://pbs.twimg.com/profile_images/620370354624565248/Cj1XOLNZ_normal.jpg', 'default_profile': True, 'default_profile_image': False, 'following': None, 'follow_request_sent': None, 'notifications': None}, 'geo': None, 'coordinates': None, 'place': None, 'contributors': None, 'retweeted_status': {'created_at': 'Sat Aug 15 02:00:10 +0000 2015', 'id': 632371171237888000, 'id_str': '632371171237888000', 'text': 'A #Cancer may act shy and quiet, but will adamantly defend a loved one against outsiders.', 'source': '<a href=\"http://twitter.com\" rel=\"nofollow\">iMTS</a>', 'truncated': False, 'in_reply_to_status_id': None, 'in_reply_to_status_id_str': None, 'in_reply_to_user_id': None, 'in_reply_to_user_id_str': None, 'in_reply_to_screen_name': None, 'user': {'id': 1575097585, 'id_str': '1575097585', 'name': 'Cancer Zodiac', 'screen_name': 'Cancer_gk', 'location': '', 'url': 'http://bit.ly/1e4gJh3', 'description': 'Not Cancer? Follow your sign - @Aries_gk @Taurus_gk @Gemini__gk @Leo__gk @Virgo_gk @Libra_gk @Scorpio_gk @Sagittarius__gk @Capricorn_gk @Aquarius_gk @Pisces_gk', 'protected': False, 'verified': False, 'followers_count': 89117, 'friends_count': 14902, 'listed_count': 138, 'favourites_count': 0, 'statuses_count': 1718, 'created_at': 'Sun Jul 07 12:40:15 +0000 2013', 'utc_offset': -18000, 'time_zone': 'Central Time (US & Canada)', 'geo_enabled': False, 'lang': 'en', 'contributors_enabled': False, 'is_translator': False, 'profile_background_color': 'DBE9ED', 'profile_background_image_url': 'http://abs.twimg.com/images/themes/theme17/bg.gif', 'profile_background_image_url_https': 'https://abs.twimg.com/images/themes/theme17/bg.gif', 'profile_background_tile': False, 'profile_link_color': 'CC3366', 'profile_sidebar_border_color': 'DBE9ED', 'profile_sidebar_fill_color': 'E6F6F9', 'profile_text_color': '333333', 'profile_use_background_image': True, 'profile_image_url': 'http://pbs.twimg.com/profile_images/571741716420362240/NcZ9I7OO_normal.jpeg', 'profile_image_url_https': 'https://pbs.twimg.com/profile_images/571741716420362240/NcZ9I7OO_normal.jpeg', 'profile_banner_url': 'https://pbs.twimg.com/profile_banners/1575097585/1425150179', 'default_profile': False, 'default_profile_image': False, 'following': None, 'follow_request_sent': None, 'notifications': None}, 'geo': None, 'coordinates': None, 'place': None, 'contributors': None, 'retweet_count': 119, 'favorite_count': 123, 'entities': {'hashtags': [{'text': 'Cancer', 'indices': [2, 9]}], 'trends': [], 'urls': [], 'user_mentions': [], 'symbols': []}, 'favorited': False, 'retweeted': False, 'possibly_sensitive': False, 'filter_level': 'low', 'lang': 'en'}, 'retweet_count': 0, 'favorite_count': 0, 'entities': {'hashtags': [{'text': 'Cancer', 'indices': [17, 24]}], 'trends': [], 'urls': [], 'user_mentions': [{'screen_name': 'Cancer_gk', 'name': 'Cancer Zodiac', 'id': 1575097585, 'id_str': '1575097585', 'indices': [3, 13]}], 'symbols': []}, 'favorited': False, 'retweeted': False, 'possibly_sensitive': False, 'filter_level': 'low', 'lang': 'en', 'timestamp_ms': '1439761273657'}\n",
      "{'created_at': 'Sun Aug 16 21:41:13 +0000 2015', 'id': 633030779627433984, 'id_str': '633030779627433984', 'text': '@1voodoochild thanks for the follow💯', 'source': '<a href=\"http://twitter.com/download/iphone\" rel=\"nofollow\">Twitter for iPhone</a>', 'truncated': False, 'in_reply_to_status_id': None, 'in_reply_to_status_id_str': None, 'in_reply_to_user_id': 109383806, 'in_reply_to_user_id_str': '109383806', 'in_reply_to_screen_name': '1voodoochild', 'user': {'id': 28041701, 'id_str': '28041701', 'name': 'Simona Marshall', 'screen_name': 'jazzinique2015', 'location': 'North Little Rock', 'url': None, 'description': 'The soulfully, sizzling styles of Mz. Simona can only be described as: Jazzinique! Her voice will mesmerize and take you on a journey like none other!!', 'protected': False, 'verified': False, 'followers_count': 220, 'friends_count': 292, 'listed_count': 0, 'favourites_count': 38, 'statuses_count': 257, 'created_at': 'Wed Apr 01 03:31:08 +0000 2009', 'utc_offset': -18000, 'time_zone': 'Central Time (US & Canada)', 'geo_enabled': False, 'lang': 'en', 'contributors_enabled': False, 'is_translator': False, 'profile_background_color': 'C0DEED', 'profile_background_image_url': 'http://abs.twimg.com/images/themes/theme1/bg.png', 'profile_background_image_url_https': 'https://abs.twimg.com/images/themes/theme1/bg.png', 'profile_background_tile': False, 'profile_link_color': '0084B4', 'profile_sidebar_border_color': 'C0DEED', 'profile_sidebar_fill_color': 'DDEEF6', 'profile_text_color': '333333', 'profile_use_background_image': True, 'profile_image_url': 'http://pbs.twimg.com/profile_images/610075330691239937/GhDOO2Ik_normal.jpg', 'profile_image_url_https': 'https://pbs.twimg.com/profile_images/610075330691239937/GhDOO2Ik_normal.jpg', 'profile_banner_url': 'https://pbs.twimg.com/profile_banners/28041701/1435341322', 'default_profile': True, 'default_profile_image': False, 'following': None, 'follow_request_sent': None, 'notifications': None}, 'geo': None, 'coordinates': None, 'place': None, 'contributors': None, 'retweet_count': 0, 'favorite_count': 0, 'entities': {'hashtags': [], 'trends': [], 'urls': [], 'user_mentions': [{'screen_name': '1voodoochild', 'name': 'TP', 'id': 109383806, 'id_str': '109383806', 'indices': [0, 13]}], 'symbols': []}, 'favorited': False, 'retweeted': False, 'possibly_sensitive': False, 'filter_level': 'low', 'lang': 'en', 'timestamp_ms': '1439761273663'}\n",
      "{'created_at': 'Sun Aug 16 21:41:13 +0000 2015', 'id': 633030779640090624, 'id_str': '633030779640090624', 'text': '\"shitting on otherkin is ablist and transphobic as fuck\" ????', 'source': '<a href=\"http://twitter.com/#!/download/ipad\" rel=\"nofollow\">Twitter for iPad</a>', 'truncated': False, 'in_reply_to_status_id': None, 'in_reply_to_status_id_str': None, 'in_reply_to_user_id': None, 'in_reply_to_user_id_str': None, 'in_reply_to_screen_name': None, 'user': {'id': 65100966, 'id_str': '65100966', 'name': '仮面バニー', 'screen_name': 'ComeOnBunny', 'location': '', 'url': None, 'description': 'tri-Ace - Tales of - FFXIII - MegaTen - Kamen Rider _(´ཀ`」∠)_ || Aibou ♡ @jelly_995', 'protected': False, 'verified': False, 'followers_count': 213, 'friends_count': 213, 'listed_count': 11, 'favourites_count': 3020, 'statuses_count': 61352, 'created_at': 'Wed Aug 12 17:36:41 +0000 2009', 'utc_offset': -14400, 'time_zone': 'Eastern Time (US & Canada)', 'geo_enabled': False, 'lang': 'en', 'contributors_enabled': False, 'is_translator': False, 'profile_background_color': 'B2DFDA', 'profile_background_image_url': 'http://abs.twimg.com/images/themes/theme13/bg.gif', 'profile_background_image_url_https': 'https://abs.twimg.com/images/themes/theme13/bg.gif', 'profile_background_tile': False, 'profile_link_color': '93A644', 'profile_sidebar_border_color': 'EEEEEE', 'profile_sidebar_fill_color': 'FFFFFF', 'profile_text_color': '333333', 'profile_use_background_image': True, 'profile_image_url': 'http://pbs.twimg.com/profile_images/626670411493847040/r5gVjgeQ_normal.png', 'profile_image_url_https': 'https://pbs.twimg.com/profile_images/626670411493847040/r5gVjgeQ_normal.png', 'profile_banner_url': 'https://pbs.twimg.com/profile_banners/65100966/1438283440', 'default_profile': False, 'default_profile_image': False, 'following': None, 'follow_request_sent': None, 'notifications': None}, 'geo': None, 'coordinates': None, 'place': None, 'contributors': None, 'retweet_count': 0, 'favorite_count': 0, 'entities': {'hashtags': [], 'trends': [], 'urls': [], 'user_mentions': [], 'symbols': []}, 'favorited': False, 'retweeted': False, 'possibly_sensitive': False, 'filter_level': 'low', 'lang': 'en', 'timestamp_ms': '1439761273666'}\n",
      "{'created_at': 'Sun Aug 16 21:41:13 +0000 2015', 'id': 633030779623374848, 'id_str': '633030779623374848', 'text': '112 #MTVHottest Britney Spears', 'source': '<a href=\"https://about.twitter.com/products/tweetdeck\" rel=\"nofollow\">TweetDeck</a>', 'truncated': False, 'in_reply_to_status_id': None, 'in_reply_to_status_id_str': None, 'in_reply_to_user_id': None, 'in_reply_to_user_id_str': None, 'in_reply_to_screen_name': None, 'user': {'id': 3229201528, 'id_str': '3229201528', 'name': 'pam', 'screen_name': 'xspearx330', 'location': '', 'url': None, 'description': None, 'protected': False, 'verified': False, 'followers_count': 7, 'friends_count': 16, 'listed_count': 1, 'favourites_count': 4, 'statuses_count': 11439, 'created_at': 'Sat May 02 21:40:08 +0000 2015', 'utc_offset': None, 'time_zone': None, 'geo_enabled': False, 'lang': 'pt', 'contributors_enabled': False, 'is_translator': False, 'profile_background_color': 'C0DEED', 'profile_background_image_url': 'http://abs.twimg.com/images/themes/theme1/bg.png', 'profile_background_image_url_https': 'https://abs.twimg.com/images/themes/theme1/bg.png', 'profile_background_tile': False, 'profile_link_color': '0084B4', 'profile_sidebar_border_color': 'C0DEED', 'profile_sidebar_fill_color': 'DDEEF6', 'profile_text_color': '333333', 'profile_use_background_image': True, 'profile_image_url': 'http://abs.twimg.com/sticky/default_profile_images/default_profile_0_normal.png', 'profile_image_url_https': 'https://abs.twimg.com/sticky/default_profile_images/default_profile_0_normal.png', 'default_profile': True, 'default_profile_image': True, 'following': None, 'follow_request_sent': None, 'notifications': None}, 'geo': None, 'coordinates': None, 'place': None, 'contributors': None, 'retweet_count': 0, 'favorite_count': 0, 'entities': {'hashtags': [{'text': 'MTVHottest', 'indices': [4, 15]}], 'trends': [], 'urls': [], 'user_mentions': [], 'symbols': []}, 'favorited': False, 'retweeted': False, 'possibly_sensitive': False, 'filter_level': 'low', 'lang': 'en', 'timestamp_ms': '1439761273662'}\n",
      "{'created_at': 'Sun Aug 16 21:41:13 +0000 2015', 'id': 633030779602399232, 'id_str': '633030779602399232', 'text': 'RT @Gggb769Gggb: هناك ضربه موجه  ستكون في عمق الخليج. \\nستغير مجريات  الاحداث \\nماعليكم سوا الصبر والانتصار. والايام بيننا لمن ستكون الغلبه. …', 'source': '<a href=\"http://twitter.com/download/android\" rel=\"nofollow\">Twitter for Android</a>', 'truncated': False, 'in_reply_to_status_id': None, 'in_reply_to_status_id_str': None, 'in_reply_to_user_id': None, 'in_reply_to_user_id_str': None, 'in_reply_to_screen_name': None, 'user': {'id': 3140584378, 'id_str': '3140584378', 'name': 'عاصم الماوري', 'screen_name': 'HH5mC8UIyyEmy5B', 'location': '', 'url': None, 'description': None, 'protected': False, 'verified': False, 'followers_count': 38, 'friends_count': 381, 'listed_count': 0, 'favourites_count': 180, 'statuses_count': 542, 'created_at': 'Mon Apr 06 14:14:06 +0000 2015', 'utc_offset': None, 'time_zone': None, 'geo_enabled': False, 'lang': 'ar', 'contributors_enabled': False, 'is_translator': False, 'profile_background_color': 'C0DEED', 'profile_background_image_url': 'http://abs.twimg.com/images/themes/theme1/bg.png', 'profile_background_image_url_https': 'https://abs.twimg.com/images/themes/theme1/bg.png', 'profile_background_tile': False, 'profile_link_color': '0084B4', 'profile_sidebar_border_color': 'C0DEED', 'profile_sidebar_fill_color': 'DDEEF6', 'profile_text_color': '333333', 'profile_use_background_image': True, 'profile_image_url': 'http://abs.twimg.com/sticky/default_profile_images/default_profile_1_normal.png', 'profile_image_url_https': 'https://abs.twimg.com/sticky/default_profile_images/default_profile_1_normal.png', 'default_profile': True, 'default_profile_image': True, 'following': None, 'follow_request_sent': None, 'notifications': None}, 'geo': None, 'coordinates': None, 'place': None, 'contributors': None, 'retweeted_status': {'created_at': 'Sun Aug 16 21:35:04 +0000 2015', 'id': 633029230092255232, 'id_str': '633029230092255232', 'text': 'هناك ضربه موجه  ستكون في عمق الخليج. \\nستغير مجريات  الاحداث \\nماعليكم سوا الصبر والانتصار. والايام بيننا لمن ستكون الغلبه. المظلوم ام الظالم', 'source': '<a href=\"http://twitter.com/download/android\" rel=\"nofollow\">Twitter for Android</a>', 'truncated': False, 'in_reply_to_status_id': None, 'in_reply_to_status_id_str': None, 'in_reply_to_user_id': None, 'in_reply_to_user_id_str': None, 'in_reply_to_screen_name': None, 'user': {'id': 3093418073, 'id_str': '3093418073', 'name': 'اليمن في قلوبنا', 'screen_name': 'Gggb769Gggb', 'location': '', 'url': None, 'description': '\\u200f\\u200f\\u200fإصبِر فما الصبر الجميل بضائعٍ        \\nللـصـبرِ أجـرٌ مـثـل غـيثٍ قد هَـما\\n\\nهذي الحياة وإن تكدّر صفوُها\\nباللـہ تـغـدو جــنــةً و تـنـعُّــمـا', 'protected': False, 'verified': False, 'followers_count': 4226, 'friends_count': 543, 'listed_count': 12, 'favourites_count': 1041, 'statuses_count': 6544, 'created_at': 'Tue Mar 17 21:15:54 +0000 2015', 'utc_offset': None, 'time_zone': None, 'geo_enabled': False, 'lang': 'ar', 'contributors_enabled': False, 'is_translator': False, 'profile_background_color': 'C0DEED', 'profile_background_image_url': 'http://abs.twimg.com/images/themes/theme1/bg.png', 'profile_background_image_url_https': 'https://abs.twimg.com/images/themes/theme1/bg.png', 'profile_background_tile': False, 'profile_link_color': '0084B4', 'profile_sidebar_border_color': 'C0DEED', 'profile_sidebar_fill_color': 'DDEEF6', 'profile_text_color': '333333', 'profile_use_background_image': True, 'profile_image_url': 'http://pbs.twimg.com/profile_images/618896700833427456/NIeajscG_normal.jpg', 'profile_image_url_https': 'https://pbs.twimg.com/profile_images/618896700833427456/NIeajscG_normal.jpg', 'profile_banner_url': 'https://pbs.twimg.com/profile_banners/3093418073/1435352587', 'default_profile': True, 'default_profile_image': False, 'following': None, 'follow_request_sent': None, 'notifications': None}, 'geo': None, 'coordinates': None, 'place': None, 'contributors': None, 'retweet_count': 5, 'favorite_count': 8, 'entities': {'hashtags': [], 'trends': [], 'urls': [], 'user_mentions': [], 'symbols': []}, 'favorited': False, 'retweeted': False, 'possibly_sensitive': False, 'filter_level': 'low', 'lang': 'ar'}, 'retweet_count': 0, 'favorite_count': 0, 'entities': {'hashtags': [], 'trends': [], 'urls': [], 'user_mentions': [{'screen_name': 'Gggb769Gggb', 'name': 'اليمن في قلوبنا', 'id': 3093418073, 'id_str': '3093418073', 'indices': [3, 15]}], 'symbols': []}, 'favorited': False, 'retweeted': False, 'possibly_sensitive': False, 'filter_level': 'low', 'lang': 'ar', 'timestamp_ms': '1439761273657'}\n"
     ]
    }
   ],
   "source": [
    "import json\n",
    "\n",
    "# Open the input file\n",
    "input_file = open('tweets.json','r')\n",
    "\n",
    "\n",
    "# Load the first few lines\n",
    "line_count = 10\n",
    "for line in input_file:\n",
    "    tweet = json.loads(line)\n",
    "    print(tweet)\n",
    "    line_count -= 1\n",
    "    if line_count < 0:\n",
    "        break\n",
    "    \n",
    "\n",
    "# Close the input file\n",
    "input_file.close()"
   ]
  },
  {
   "cell_type": "markdown",
   "metadata": {},
   "source": [
    "Each entry in `tweets.json`, i.e., each `tweet`, corresponds to a dictionary that contains lots of information about the tweet, the user, the activity related to the tweet (i.e., if it was retweeted or not), the timestamp of the tweet, entities mentioned in the tweet, hashtags used, etc.\n",
    "\n",
    "You can treat the `tweet` variable from above as a dicitonary and use the `.keys()` command to see the fields associated with the dictionary."
   ]
  },
  {
   "cell_type": "code",
   "execution_count": 13,
   "metadata": {},
   "outputs": [
    {
     "name": "stdout",
     "output_type": "stream",
     "text": [
      "created_at\n",
      "id\n",
      "id_str\n",
      "text\n",
      "source\n",
      "truncated\n",
      "in_reply_to_status_id\n",
      "in_reply_to_status_id_str\n",
      "in_reply_to_user_id\n",
      "in_reply_to_user_id_str\n",
      "in_reply_to_screen_name\n",
      "user\n",
      "geo\n",
      "coordinates\n",
      "place\n",
      "contributors\n",
      "retweeted_status\n",
      "retweet_count\n",
      "favorite_count\n",
      "entities\n",
      "favorited\n",
      "retweeted\n",
      "possibly_sensitive\n",
      "filter_level\n",
      "lang\n",
      "timestamp_ms\n"
     ]
    }
   ],
   "source": [
    "for k in tweet.keys():\n",
    "    print(k)"
   ]
  },
  {
   "cell_type": "markdown",
   "metadata": {},
   "source": [
    "We can select any of the aforemented values of Variable `tweet` by treating it as a dictionary. For example let's select the `text` body of the tweet, the time it was `created_at`, and the `hashtags` it contains.  "
   ]
  },
  {
   "cell_type": "code",
   "execution_count": 14,
   "metadata": {},
   "outputs": [
    {
     "name": "stdout",
     "output_type": "stream",
     "text": [
      "Tweet body:  RT @Gggb769Gggb: هناك ضربه موجه  ستكون في عمق الخليج. \n",
      "ستغير مجريات  الاحداث \n",
      "ماعليكم سوا الصبر والانتصار. والايام بيننا لمن ستكون الغلبه. …\n",
      "Creation Time: Sun Aug 16 21:41:13 +0000 2015\n",
      "Hastags:  []\n"
     ]
    }
   ],
   "source": [
    "body = tweet['text']\n",
    "tweet_time  = tweet['created_at']\n",
    "\n",
    "# tweet['entities'] is itself a dictionary with more entries. Hashtags is one of them.\n",
    "htags  = tweet['entities']['hashtags']\n",
    "\n",
    "print('Tweet body: ', body)\n",
    "print('Creation Time:', tweet_time)\n",
    "print('Hastags: ', htags)"
   ]
  },
  {
   "cell_type": "markdown",
   "metadata": {},
   "source": [
    "As you can see this tweet contains no hashtags. The body of the tweet contains several information that is not necesary for our sentiment analysis task. For example, it contains a comma, a reference to a twitter user and a link to an external website. \n",
    "\n",
    "Since this information is not necessary we can remove it. In other words we need to clean our input in order to prepare it for analysis. Next, we show you some basic cleaning operations using **regular expressions**. You can find more information on regular expressions [here](https://medium.com/factory-mind/regex-tutorial-a-simple-cheatsheet-by-examples-649dc1c3f285)."
   ]
  },
  {
   "cell_type": "code",
   "execution_count": 15,
   "metadata": {},
   "outputs": [
    {
     "name": "stdout",
     "output_type": "stream",
     "text": [
      "Clean tweet body: rt  هناك ضربه موجه  ستكون في عمق الخليج. \n",
      "ستغير مجريات  الاحداث \n",
      "ماعليكم سوا الصبر والانتصار. والايام بيننا لمن ستكون الغلبه. …\n"
     ]
    }
   ],
   "source": [
    "# Basic steps for cleaning process.\n",
    "import re\n",
    "# Step 1: Convert tweet to lower case\n",
    "body = body.lower()\n",
    "# Step 2: Find URLs and replace them with an empty string\n",
    "body = re.sub(r'((www\\.[\\S]+)|(https?://[\\S]+))', '', body)\n",
    "# Step 3: Find @<user> mentions and replace them with an empty string\n",
    "body = re.sub(r'@[\\S]+', '', body)\n",
    "\n",
    "print('Clean tweet body:', body)"
   ]
  },
  {
   "cell_type": "markdown",
   "metadata": {},
   "source": [
    "We are providing you with a Python script named `preprocess.py`. The script `preprocess.py` accepts one argument on the command line: a JSON file with tweets (i.e., `tweets.json`). You can run the program like this:\n",
    "\n",
    "`$ python3 preprocess.py tweets.json`\n",
    "\n",
    "**There are some parts specified in this script that you need to implement**. The goal of this script is to clean all the tweets in `tweets.json`. Running `preprocess.py` will generate an output file named `clean_tweets.txt` containing **one string per line** containing a clean tweet. The order of the clean tweets in your output file should follow the order of the lines in the original `tweets.json`. Basically, the first line in `clean_tweets.txt` should correspond to the first raw tweet in `tweets.json`, the second line should correspond to the second tweet, and so on. If you perform any sorting or you put the processed data in a dictionary the order will not be preserved. Once again: **The n-th line of `clean_tweets.txt` (the file you will submit) should be a string that represent the clean version of the n-the line in the `tweets.json` (the input file).**\n",
    "\n",
    "You must provide a line for **every** tweet. If the clean tweet is the empty string then just provide a line with the empty string.\n",
    "\n",
    "If you have implemented everything correctly, the first 6 lines of the generated output should be exactly the same as the next lines:\n",
    "\n",
    "\n",
    "```\n",
    "\n",
    "\n",
    "\n",
    "any shots\n",
    "a cancer may act shy and quiet but will adamantly defend a loved one against outsiders\n",
    "```\n",
    "\n",
    "The first 4 lines will be empty and the last 2 will have the string shown above.\n",
    "\n",
    "Note: This is real-world data, and it can be messy! For example, not all json lines may contain valid tweets (i.e., a text field). Ask for help on Piazza if you get stuck!\n",
    "\n",
    "***What to turn in: The file `clean_tweets.txt` output by `preprocess.py` after you have implemented the missing parts in `preprocess.py`.***"
   ]
  },
  {
   "cell_type": "markdown",
   "metadata": {},
   "source": [
    "# Question 2: Derive the sentiment of each tweet [40 points]\n",
    "\n",
    "For this part, you will compute the sentiment of each clean tweet in `clean_tweets.txt` based on the sentiment scores of the terms in the tweet. The sentiment of a tweet is equivalent to the sum of the sentiment scores for each term in the clean tweet.\n",
    "\n",
    "You are provided with a skeleton file `tweet_sentiment.py` which accepts two arguments on the command line: a *sentiment file* and a tweet file like the one you generated in Question 1. You can run the skeleton program like this:\n",
    "\n",
    "`$ python3 tweet_sentiment.py AFINN-111.txt clean_tweets.txt`\n",
    "\n",
    "The file `AFINN-111.txt` contains a list of pre-computed sentiment scores. Each line in the file contains a word or phrase phollowed by a sentiment score. Each word or phrase that is found in a tweet but not found in `AFINN-111.txt` should be given a sentiment score of 0. See the file `AFINN-README.txt` for more information.\n",
    "\n",
    "To use the data in the `AFINN-111.txt` file, you may find it useful to build a dictionary. Note that the `AFINN-111.txt` file format is tab-delimited, meaning that the term and the score are separated by a tab character. A tab character corresponds to the string \"\\t\". The following snipped of code may be useful:"
   ]
  },
  {
   "cell_type": "code",
   "execution_count": null,
   "metadata": {
    "collapsed": true
   },
   "outputs": [],
   "source": [
    "import sys\n",
    "afinnfile_name = open(sys.argv[1])\n",
    "afinnfile = open(afinnfile_name, 'r')\n",
    "scores = {} # initialize an empty dictionary\n",
    "for line in afinnfile:\n",
    "    term, score = line.split(\"\\t\") # The file is tab-delimited and \"\\t\" means tab character\n",
    "    scores[term] = int(score) # Conver the score to an integer. It was parsed as a string.\n",
    "afinnfile.close()\n",
    "print(scores.items( )) # Print every (term, score) pair in the dictionary"
   ]
  },
  {
   "cell_type": "markdown",
   "metadata": {},
   "source": [
    "Your script should output a file named `sentiment.txt` containing the sentiment of each tweet in the file `clean_tweets.txt`, one numeric sentiment score per line. The first score should correspond to the first tweet, the second score should correspond to the second tweet, and so on. In other words, ** the n-th line of the file you submit should contain only a single number that represents teh score of the n-th tweet in the input file.**\n",
    "\n",
    "After you have implemented everything the first 10 lines of the generated output of your script should be exactly the same as the next lines:\n",
    "\n",
    "```\n",
    "0\n",
    "0\n",
    "0\n",
    "0\n",
    "0\n",
    "6\n",
    "6\n",
    "-10\n",
    "0\n",
    "0\n",
    "```\n",
    "\n",
    "***What to turn in: The file `sentiment.txt` after you have verified that it returns the correct answers***"
   ]
  },
  {
   "cell_type": "markdown",
   "metadata": {},
   "source": [
    "# Question 3: Derive the sentiment of new terms [40 points]\n",
    "\n",
    "In this part you will create a script that computes the sentiment for terms that **do not** appear in the file `AFINN-111.txt`.\n",
    "\n",
    "You can think about this problem as follows: We know wwe can use the sentiment-carrying words in `AFINN-111.txt` to deduce the overall sentiment of a tweet. Once you deduce the sentiment of a tweet, you can work backwards to deduce the sentiment of the non-sentiment carrying words that *do not appear* in `AFINN-111.txt`. For example, if the word *football* always appears in proximity with positive words like *great* and *fun*, then we can deduce that the term *football* itself carried a positive sentiment.\n",
    "\n",
    "You are provided with a skeleton file `term_sentiment.py` which accepts the same two arguments as `tweet_sentiment.py` and can be executed using the following command:\n",
    "\n",
    "`$ python3 term_sentiment.py AFINN-111.txt clean_tweets.txt`\n",
    "\n",
    "Your script should print its output to stdout. Each line of the output should contain a term, followed by a space, followed by a sentiment. That is, each line should be in the format <term:string> <sentiment:float>. For example if you have the pair (\"foo\", 54.2) in Python, it should appear in the output as: `foo 54.2`.\n",
    "\n",
    "*The order of your output does not matter.*\n",
    "\n",
    "***What to turn in: The file `term_sentiment.py` after you have implemented the missing parts.***\n",
    "\n",
    "To grade your submission we will run your script on a file that contains strongly positive and strong negative tweets and verify that the terms in the strongly positive tweets are assigned a higher score than the terms in the negative tweets. Your score need not exactly match any specific solution. "
   ]
  }
 ],
 "metadata": {
  "kernelspec": {
   "display_name": "Python 3",
   "language": "python",
   "name": "python3"
  },
  "language_info": {
   "codemirror_mode": {
    "name": "ipython",
    "version": 3
   },
   "file_extension": ".py",
   "mimetype": "text/x-python",
   "name": "python",
   "nbconvert_exporter": "python",
   "pygments_lexer": "ipython3",
   "version": "3.6.3"
  }
 },
 "nbformat": 4,
 "nbformat_minor": 2
}
